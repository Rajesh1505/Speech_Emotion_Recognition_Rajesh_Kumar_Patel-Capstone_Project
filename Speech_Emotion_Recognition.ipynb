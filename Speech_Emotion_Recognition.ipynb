{
  "nbformat": 4,
  "nbformat_minor": 0,
  "metadata": {
    "colab": {
      "name": "Speech_Emotion_Recognition.ipynb",
      "provenance": [],
      "mount_file_id": "1LdbS2L1i3TMa18r3nUVI2bAyp4WtBHm6",
      "authorship_tag": "ABX9TyNjMdFbyJdro6P1/Xy3vq2x"
    },
    "kernelspec": {
      "name": "python3",
      "display_name": "Python 3"
    },
    "language_info": {
      "name": "python"
    }
  },
  "cells": [
    {
      "cell_type": "markdown",
      "source": [
        "# **Project Introduction**\n",
        "Verbal Communication is valuable and sought after in workplace and classroom environments alike.\n",
        "There is no denying the notion that Indians lack verbal communication and consequently lag behind in\n",
        "the workplace or classroom environments. This happens despite them having strong technical\n",
        "competencies. Clear and comprehensive speech is the vital backbone of strong communication and\n",
        "presentation skills. Where some occupations consist mainly of presenting, most careers require and\n",
        "thrive from the ability to communicate effectively. Research has shown that verbal communication\n",
        "remains one of the most employable skills in both the perception of employers and new graduates. Of\n",
        "the possible improvements to vocal presentations tone, disfluencies, and stutters, in particular, remain\n",
        "one of the most common and prominent factors of someone’s demonstration. Millions of people are\n",
        "affected by stuttering and other speech disfluencies, with the majority of the world having experienced\n",
        "mild stutters while communicating under stressful conditions. Research shows that mild disfluencies\n",
        "can be cured without medical help, just practicing speech regularly and constructive feedbacks are\n",
        "effective ways to improve.\n",
        "We, Data Scientists recognize this problem and say hello.\n"
      ],
      "metadata": {
        "id": "eA9p1fSRxlPV"
      }
    },
    {
      "cell_type": "markdown",
      "source": [
        "# **Problem Statement**\n",
        "We will solve the above-mentioned problem by applying deep learning algorithms to audio/speech\n",
        "data. The solution will be to identify emotions in speech."
      ],
      "metadata": {
        "id": "y_HRgKiNxzbu"
      }
    },
    {
      "cell_type": "markdown",
      "source": [
        "**DATA SOURCE USED**\n",
        "\n",
        "We have used the RAVDESS dataset in this project.It is one of the more common dataset used for this excercise by others. It's well liked because of its quality of speakers, recording and it has 24 actors of different genders.\n",
        "Here's the filename identifiers as per the official RAVDESS website:\n",
        "\n",
        "* Modality (01 = full-AV, 02 = video-only, 03 = audio-only).\n",
        "* Vocal channel (01 = speech, 02 = song).\n",
        "* Emotion (01 = neutral, 02 = calm, 03 = happy, 04 = sad, 05 = angry, 06 = fearful, 07 = disgust, 08 = surprised).\n",
        "* Emotional intensity (01 = normal, 02 = strong). NOTE: There is no strong intensity for the 'neutral' emotion.\n",
        "* Statement (01 = \"Kids are talking by the door\", 02 = \"Dogs are sitting by the door\").\n",
        "* Repetition (01 = 1st repetition, 02 = 2nd repetition).\n",
        "* Actor (01 to 24. Odd numbered actors are male, even numbered actors are female).\n",
        "\n",
        "Here's an example of an audio filename. 02-01-06-01-02-01-12.mp4"
      ],
      "metadata": {
        "id": "3HErQVd5x6gx"
      }
    },
    {
      "cell_type": "code",
      "execution_count": 2,
      "metadata": {
        "id": "HXXdF502xHVe"
      },
      "outputs": [],
      "source": [
        "#IMPORT THE LIBRARIES\n",
        "import pandas as pd\n",
        "import numpy as np\n",
        "import os\n",
        "import seaborn as sns\n",
        "import matplotlib.pyplot as plt\n",
        "%matplotlib inline\n",
        "\n",
        "#hide warnigs\n",
        "import warnings  \n",
        "warnings.filterwarnings(action='ignore')"
      ]
    },
    {
      "cell_type": "code",
      "source": [
        "# path to the dataset used in this project\n",
        "RAV = \"/content/drive/MyDrive/Colab Notebooks/Project/Speech/speech-emotion-recognition-ravdess-data/\""
      ],
      "metadata": {
        "id": "bFXWXlWsyslJ"
      },
      "execution_count": 3,
      "outputs": []
    },
    {
      "cell_type": "code",
      "source": [
        "# Loading speech dataset and count according to the emotions-wise\n",
        "\n",
        "dir_list = os.listdir(RAV)\n",
        "dir_list.sort()\n",
        "\n",
        "emotion = []\n",
        "gender = []\n",
        "path = []\n",
        "for i in dir_list:\n",
        "    fname = os.listdir(RAV + i)\n",
        "    for f in fname:\n",
        "        part = f.split('.')[0].split('-')\n",
        "        emotion.append(int(part[2]))\n",
        "        temp = int(part[6])\n",
        "        if temp%2 == 0:\n",
        "            temp = \"female\"\n",
        "        else:\n",
        "            temp = \"male\"\n",
        "        gender.append(temp)\n",
        "        path.append(RAV + i + '/' + f)\n",
        "\n",
        "        \n",
        "RAV_df = pd.DataFrame(emotion)\n",
        "RAV_df = RAV_df.replace({1:'neutral', 2:'calm', 3:'happy', 4:'sad', 5:'angry', 6:'fear', 7:'disgust', 8:'surprise'})\n",
        "RAV_df = pd.concat([pd.DataFrame(gender),RAV_df],axis=1)\n",
        "RAV_df.columns = ['gender','emotion']\n",
        "RAV_df['labels'] =RAV_df.gender + '_' + RAV_df.emotion\n",
        "RAV_df['source'] = 'RAVDESS'  \n",
        "RAV_df = pd.concat([RAV_df,pd.DataFrame(path, columns = ['path'])],axis=1)\n",
        "RAV_df = RAV_df.drop(['gender', 'emotion'], axis=1)\n",
        "RAV_df.labels.value_counts()"
      ],
      "metadata": {
        "colab": {
          "base_uri": "https://localhost:8080/"
        },
        "id": "yOvKggtmzGmf",
        "outputId": "b5557fdf-ad58-426a-ae13-eca6b735ad2f"
      },
      "execution_count": 4,
      "outputs": [
        {
          "output_type": "execute_result",
          "data": {
            "text/plain": [
              "male_angry         96\n",
              "male_sad           96\n",
              "female_angry       96\n",
              "male_happy         96\n",
              "male_fear          96\n",
              "female_happy       96\n",
              "female_disgust     96\n",
              "female_surprise    96\n",
              "female_calm        96\n",
              "female_fear        96\n",
              "male_calm          96\n",
              "female_sad         96\n",
              "male_surprise      96\n",
              "male_disgust       96\n",
              "female_neutral     48\n",
              "male_neutral       48\n",
              "Name: labels, dtype: int64"
            ]
          },
          "metadata": {},
          "execution_count": 4
        }
      ]
    },
    {
      "cell_type": "markdown",
      "source": [
        "# EXPLORATORY DATA ANALYSIS\n",
        "The key features of the audio data are namely, MFCC (Mel Frequency Cepstral Coefficients), Mel Spectrogram and Chroma.\n",
        "\n",
        "MFCC (Mel Frequency Cepstral Coefficients)- MFCC is taken on a Mel scale which is a scale that relates the perceived frequency of a tone to the actual measured frequency. It scales the frequency in order to match more closely what the human ear can hear. The envelope of the temporal power spectrum of the speech signal is representative of the vocal tract and MFCC accurately represents this envelope.\n",
        "Mel Spectrogram- A Fast Fourier Transform is computed on overlapping windowed segments of the signal, and we get what is called the spectrogram. This is just a spectrogram that depicts amplitude which is mapped on a Mel scale.\n",
        "\n",
        "Chroma- A Chroma vector is typically a 12-element feature vector indicating how much energy of each pitch class is present in the signal in a standard chromatic scale.\n",
        "\n",
        "For the EDA we have used MFCC and Mel Spectogram"
      ],
      "metadata": {
        "id": "g0SHP0tm0BlL"
      }
    },
    {
      "cell_type": "code",
      "source": [
        "# visualize count of emotions-wise\n",
        "plt.figure(figsize=(18,6))\n",
        "plt.title('Count of Emotions', size=12)\n",
        "sns.countplot(RAV_df.labels)\n",
        "plt.ylabel('Count')\n",
        "plt.xlabel('Emotions')\n",
        "plt.xticks(rotation=35)\n",
        "sns.despine(top=True, right=True, left=False, bottom=False)\n",
        "plt.show()"
      ],
      "metadata": {
        "colab": {
          "base_uri": "https://localhost:8080/",
          "height": 449
        },
        "id": "iYtS33-DzlhG",
        "outputId": "403b63e5-b636-4265-805b-652984dbd436"
      },
      "execution_count": 11,
      "outputs": [
        {
          "output_type": "display_data",
          "data": {
            "image/png": "[encoded data removed]",
            "text/plain": [
              "<Figure size 1296x432 with 1 Axes>"
            ]
          },
          "metadata": {
            "needs_background": "light"
          }
        }
      ]
    }
  ]
}